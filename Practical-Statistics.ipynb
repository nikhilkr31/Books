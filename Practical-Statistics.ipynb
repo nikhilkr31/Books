{
 "cells": [
  {
   "cell_type": "code",
   "execution_count": 1,
   "id": "35f81cf3-66d1-4dc2-baa0-528bdd23b6cd",
   "metadata": {},
   "outputs": [],
   "source": [
    "#imports \n",
    "\n",
    "import numpy as np\n",
    "from scipy import stats"
   ]
  },
  {
   "cell_type": "markdown",
   "id": "13e894f2-31d6-483c-873d-64cd262f4ece",
   "metadata": {},
   "source": [
    "# Exploratory Data Analysis"
   ]
  },
  {
   "cell_type": "code",
   "execution_count": 2,
   "id": "af14b2bd-3da6-41d6-91ad-f4314c147134",
   "metadata": {},
   "outputs": [],
   "source": [
    "#Iris dataset from sklearn\n",
    "from sklearn.datasets import load_iris\n",
    "iris = load_iris(as_frame=True)\n",
    "df = iris.data"
   ]
  },
  {
   "cell_type": "markdown",
   "id": "cdc3fbeb-d574-410d-a887-513d4b657cc8",
   "metadata": {},
   "source": [
    "## Mean"
   ]
  },
  {
   "cell_type": "code",
   "execution_count": 3,
   "id": "0c6f933b-933f-490b-9632-71fe9a00be0d",
   "metadata": {},
   "outputs": [],
   "source": [
    "col = df[['sepal length (cm)']]"
   ]
  },
  {
   "cell_type": "code",
   "execution_count": 4,
   "id": "5814b870-98fc-4ab7-9b81-ae79c846b7d5",
   "metadata": {},
   "outputs": [
    {
     "data": {
      "text/plain": [
       "sepal length (cm)    5.843333\n",
       "dtype: float64"
      ]
     },
     "execution_count": 4,
     "metadata": {},
     "output_type": "execute_result"
    }
   ],
   "source": [
    "#mean\n",
    "col.mean()"
   ]
  },
  {
   "cell_type": "code",
   "execution_count": 5,
   "id": "cd551392-5fe2-4583-820b-34047f06c736",
   "metadata": {},
   "outputs": [
    {
     "data": {
      "text/plain": [
       "array([5.80833333])"
      ]
     },
     "execution_count": 5,
     "metadata": {},
     "output_type": "execute_result"
    }
   ],
   "source": [
    "#trimmed mean \n",
    "stats.trim_mean(col,0.1)"
   ]
  },
  {
   "cell_type": "code",
   "execution_count": 7,
   "id": "7a6cd594-d02f-4248-bee9-6be75c0aa8a8",
   "metadata": {},
   "outputs": [
    {
     "data": {
      "text/plain": [
       "sepal length (cm)    5.8\n",
       "dtype: float64"
      ]
     },
     "execution_count": 7,
     "metadata": {},
     "output_type": "execute_result"
    }
   ],
   "source": [
    "#median\n",
    "col.median()"
   ]
  },
  {
   "cell_type": "code",
   "execution_count": null,
   "id": "8d8b739e-723a-4f54-ad62-9c6349535368",
   "metadata": {},
   "outputs": [],
   "source": []
  }
 ],
 "metadata": {
  "kernelspec": {
   "display_name": "Python 3 (ipykernel)",
   "language": "python",
   "name": "python3"
  },
  "language_info": {
   "codemirror_mode": {
    "name": "ipython",
    "version": 3
   },
   "file_extension": ".py",
   "mimetype": "text/x-python",
   "name": "python",
   "nbconvert_exporter": "python",
   "pygments_lexer": "ipython3",
   "version": "3.11.9"
  }
 },
 "nbformat": 4,
 "nbformat_minor": 5
}
